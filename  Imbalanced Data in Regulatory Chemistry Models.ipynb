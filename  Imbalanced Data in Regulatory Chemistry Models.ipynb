{
 "cells": [
  {
   "cell_type": "markdown",
   "metadata": {},
   "source": [
    "# Regulatory Chemistry and Imbalanced Data\n",
    "Many people have written about how to handle imbalanced data in machine learning.  My networks are training right now so I'm going to do the same, and probably not as well as they have.  \n",
    "\n",
    "**Classification and Labelling** data in chemistry takes on a specific meaning.  Usually `C&L` correspond to regulatory labels that are assigned to chemicals.  These labels are very useful to predict because they drive a lot of chemical industry decisions.\n",
    "\n",
    "The National Toxicology Program recently held a chemical modeling event for acute oral toxicity.  They painstakingly curated a large dataset of chemicals with acute oral toxicity data. One of the endpoints they defined was `Very Toxic`.  Chemicals that kill you at a very low concentration (or more accurately, kill rats at a very low concentration) are given the value TRUE for `Very Toxic` and otherwise given the value FALSE.\n",
    "\n",
    "It's important to know whether your chemicals are super lethal and so this makes a useful modelling endpoint.  But this data is very imbalanced:  \n",
    "\n",
    "| Very Toxic | Count |\n",
    "|:----------:|:-----:|\n",
    "|       True | 736   |\n",
    "|      False | 7771  |\n",
    "\n",
    "It's tempting to look at this data and say \"ok, only 10% of compounds have this property.\" Unfortunately, this isn't the case. I don't know how many compounds are very toxic.  There are lots of compounds. At last count pubchem lists **96,546,360** compounds, but there are many more and things like polymers makes counting them really hard.\n",
    "\n",
    "# How common are 'very toxic' oral lethal compounds?\n",
    "Drinking your water is relatively safe.  When your pets eat something they shouldn't they usually survive.  So lethal compounds can't be that common right?  This is a really difficult question to answer, because it depends a lot on how you count compounds.  Do we count water as one compound or do we weight it more heavily because the oceans are so big?\n",
    "\n",
    "This is still an important question though.  If we are in charge of green lighting or red lighting drugs, for instance, we should have some idea of how many `drug-like` compounds are deadly at low concentration when consumed. If we make paint we probably want some idea of these numbers for paint thinners and chemistries related to paint manufacturing.  \n",
    "\n",
    "It might be useful to know how prevalent very toxic compounds are within a certain type of compound.  But how do we define type?\n",
    "\n",
    "# Categorizing compounds\n",
    "Ok, so people have been creating categories for things for a long time now.  Here's a goofy tree I made based on [mesh term categorization for organic chemicals](https://meshb.nlm.nih.gov/record/ui?ui=D009930).  You can see that not only are there types, there are hierarchical types, and they can get pretty deep.  This is just a small sample.\n",
    "\n",
    "<img src=\"https://imgur.com/OY3MrAl.png\"/>\n",
    "\n",
    "What are chemical categories? For example, what is a nitrate? And why do we care if something is a nitrate?  \n",
    "\n",
    ">Inorganic or organic salts and esters of nitric acid. These compounds contain the NO3- radical. https://meshb.nlm.nih.gov/record/ui?ui=D009566\n",
    "\n",
    "So nitrates are really just compounds with that NO3- radical.  It turns out a lot of chemical categories are defined by the presence or absence of a few different sub-structures.\n",
    "\n",
    "People *really* like to assign properties to entire classes of chemicals here's a sample of some publications about nitrates:\n",
    "* Mechanism of vascular smooth muscle relaxation by organic nitrates\n",
    "* Role of nitrates in the adaptation of fish to hypoxic conditions\n",
    "* Cyanosis in infants caused by nitrates in well water\n",
    "* 616,000 results on [google scholar](https://scholar.google.com/scholar?hl=en&as_sdt=0%2C21&q=nitrates&btnG=)\n",
    "\n",
    "\n",
    "It's tempting to assign hazard prevalence by chemical category.  How many Nitrates are 'Very Toxic'?  How many compounds of a certain drug class are 'Very Toxic'?  If you are a modeller chemical categories start to sound like features.  \n"
   ]
  },
  {
   "cell_type": "code",
   "execution_count": null,
   "metadata": {
    "collapsed": true
   },
   "outputs": [],
   "source": []
  }
 ],
 "metadata": {
  "kernelspec": {
   "display_name": "R",
   "language": "R",
   "name": "ir"
  },
  "language_info": {
   "codemirror_mode": "r",
   "file_extension": ".r",
   "mimetype": "text/x-r-source",
   "name": "R",
   "pygments_lexer": "r",
   "version": "3.4.4"
  }
 },
 "nbformat": 4,
 "nbformat_minor": 2
}
